{
  "nbformat": 4,
  "nbformat_minor": 0,
  "metadata": {
    "colab": {
      "name": "Major project2",
      "provenance": [],
      "collapsed_sections": []
    },
    "kernelspec": {
      "name": "python3",
      "display_name": "Python 3"
    },
    "language_info": {
      "name": "python"
    }
  },
  "cells": [
    {
      "cell_type": "code",
      "metadata": {
        "colab": {
          "base_uri": "https://localhost:8080/"
        },
        "id": "cRjqAcjoF2ej",
        "outputId": "bcca7437-ccb8-4c44-acef-92fc60887fc0"
      },
      "source": [
        "pip install adafruit-io"
      ],
      "execution_count": null,
      "outputs": [
        {
          "output_type": "stream",
          "name": "stdout",
          "text": [
            "Collecting adafruit-io\n",
            "  Downloading adafruit-io-2.5.0.tar.gz (47 kB)\n",
            "\u001b[K     |████████████████████████████████| 47 kB 1.9 MB/s \n",
            "\u001b[?25hRequirement already satisfied: requests in /usr/local/lib/python3.7/dist-packages (from adafruit-io) (2.23.0)\n",
            "Collecting paho-mqtt\n",
            "  Downloading paho-mqtt-1.5.1.tar.gz (101 kB)\n",
            "\u001b[K     |████████████████████████████████| 101 kB 7.5 MB/s \n",
            "\u001b[?25hRequirement already satisfied: chardet<4,>=3.0.2 in /usr/local/lib/python3.7/dist-packages (from requests->adafruit-io) (3.0.4)\n",
            "Requirement already satisfied: certifi>=2017.4.17 in /usr/local/lib/python3.7/dist-packages (from requests->adafruit-io) (2021.5.30)\n",
            "Requirement already satisfied: urllib3!=1.25.0,!=1.25.1,<1.26,>=1.21.1 in /usr/local/lib/python3.7/dist-packages (from requests->adafruit-io) (1.24.3)\n",
            "Requirement already satisfied: idna<3,>=2.5 in /usr/local/lib/python3.7/dist-packages (from requests->adafruit-io) (2.10)\n",
            "Building wheels for collected packages: adafruit-io, paho-mqtt\n",
            "  Building wheel for adafruit-io (setup.py) ... \u001b[?25l\u001b[?25hdone\n",
            "  Created wheel for adafruit-io: filename=adafruit_io-2.5.0-py3-none-any.whl size=20821 sha256=14a577cc80d660ef58f8054a1f55f30851bd3e5841fe57fbd25ea1d198093133\n",
            "  Stored in directory: /root/.cache/pip/wheels/c4/25/e6/1dd7c8845e9ffef4f2d783214d40a4649dcbc7880a3fb9bb81\n",
            "  Building wheel for paho-mqtt (setup.py) ... \u001b[?25l\u001b[?25hdone\n",
            "  Created wheel for paho-mqtt: filename=paho_mqtt-1.5.1-py3-none-any.whl size=61565 sha256=2732c54a3a73476ba751c34f3277a06475981b3e7dc819ca7acb9cc3ce7152cd\n",
            "  Stored in directory: /root/.cache/pip/wheels/c9/be/2a/883db47312c70ef7ffcaff281f3294e3075f62da075474d4bb\n",
            "Successfully built adafruit-io paho-mqtt\n",
            "Installing collected packages: paho-mqtt, adafruit-io\n",
            "Successfully installed adafruit-io-2.5.0 paho-mqtt-1.5.1\n"
          ]
        }
      ]
    },
    {
      "cell_type": "code",
      "metadata": {
        "id": "Ckav9lyPGL4z"
      },
      "source": [
        "from Adafruit_IO import Client\n",
        "aio = Client('Hariharan05','aio_TDxF97nzeXcCgFJlMbLzPgumBCmy')\n"
      ],
      "execution_count": 1,
      "outputs": []
    },
    {
      "cell_type": "code",
      "metadata": {
        "id": "m2n0CLqgGulT"
      },
      "source": [
        "pip install python-telegram-bot==13.0 --quiet"
      ],
      "execution_count": 2,
      "outputs": []
    },
    {
      "cell_type": "code",
      "metadata": {
        "id": "_GDRGU7ZN6XW",
        "colab": {
          "base_uri": "https://localhost:8080/"
        },
        "outputId": "ac861476-d8dd-4ce7-ed0c-29667786a25f"
      },
      "source": [
        "from telegram.ext import Updater, MessageHandler, Filters\n",
        "\n",
        "\n",
        "\n",
        "\n",
        "def demo1(bot,update):\n",
        "  chat_id = bot.message.chat_id\n",
        "  bot.message.reply_text('turning on light')\n",
        "  aio.send('light',1)\n",
        "  \n",
        "def demo2(bot,update):\n",
        "  chat_id = bot.message.chat_id\n",
        "  bot.message.reply_text('turning off light')\n",
        "  aio.send('light',0)\n",
        "\n",
        "def demo3(bot,update):\n",
        "  chat_id = bot.message.chat_id\n",
        "  bot.message.reply_text('turning on fan')\n",
        "  aio.send('fan',1)\n",
        "\n",
        "def demo4(bot,update):\n",
        "  chat_id = bot.message.chat_id\n",
        "  bot.message.reply_text('turning off fan')\n",
        "  aio.send('fan',0)\n",
        "\n",
        "def main(bot,update):\n",
        "  a= bot.message.text.lower()\n",
        "  if a ==\"turn on light\":\n",
        "    demo1(bot,update)\n",
        "  elif a ==\"turn off light\":\n",
        "    demo2(bot,update)\n",
        "  elif a ==\"turn on fan\":\n",
        "    demo3(bot,update)\n",
        "  elif a ==\"turn off fan\":\n",
        "    demo4(bot,update)\n",
        "\n",
        "\n",
        "bot_token = '1971676593:AAGlB05Q5r0TaBIq-9LRgUgfFj4cTYWB97M'\n",
        "u = Updater(bot_token,use_context=True)\n",
        "dp = u.dispatcher\n",
        "dp.add_handler(MessageHandler(Filters.text,main))\n",
        "u.start_polling()\n",
        "u.idle()"
      ],
      "execution_count": 3,
      "outputs": [
        {
          "output_type": "stream",
          "name": "stderr",
          "text": [
            "No error handlers are registered, logging exception.\n",
            "Traceback (most recent call last):\n",
            "  File \"/usr/local/lib/python3.7/dist-packages/telegram/ext/dispatcher.py\", line 425, in process_update\n",
            "    handler.handle_update(update, self, check, context)\n",
            "  File \"/usr/local/lib/python3.7/dist-packages/telegram/ext/handler.py\", line 145, in handle_update\n",
            "    return self.callback(update, context)\n",
            "  File \"<ipython-input-3-c4ff2554fc57>\", line 29, in main\n",
            "    demo1(bot,update)\n",
            "  File \"<ipython-input-3-c4ff2554fc57>\", line 9, in demo1\n",
            "    aio.send('light',1)\n",
            "  File \"/usr/local/lib/python3.7/dist-packages/Adafruit_IO/client.py\", line 154, in send_data\n",
            "    return self.create_data(feed, payload)\n",
            "  File \"/usr/local/lib/python3.7/dist-packages/Adafruit_IO/client.py\", line 254, in create_data\n",
            "    return Data.from_dict(self._post(path, data._asdict()))\n",
            "  File \"/usr/local/lib/python3.7/dist-packages/Adafruit_IO/client.py\", line 127, in _post\n",
            "    self._handle_error(response)\n",
            "  File \"/usr/local/lib/python3.7/dist-packages/Adafruit_IO/client.py\", line 108, in _handle_error\n",
            "    raise RequestError(response)\n",
            "Adafruit_IO.errors.RequestError: Adafruit IO request failed: 404 Not Found - not found - API documentation can be found at https://io.adafruit.com/api/docs\n",
            "No error handlers are registered, logging exception.\n",
            "Traceback (most recent call last):\n",
            "  File \"/usr/local/lib/python3.7/dist-packages/telegram/ext/dispatcher.py\", line 425, in process_update\n",
            "    handler.handle_update(update, self, check, context)\n",
            "  File \"/usr/local/lib/python3.7/dist-packages/telegram/ext/handler.py\", line 145, in handle_update\n",
            "    return self.callback(update, context)\n",
            "  File \"<ipython-input-3-c4ff2554fc57>\", line 31, in main\n",
            "    demo2(bot,update)\n",
            "  File \"<ipython-input-3-c4ff2554fc57>\", line 14, in demo2\n",
            "    aio.send('light',0)\n",
            "  File \"/usr/local/lib/python3.7/dist-packages/Adafruit_IO/client.py\", line 154, in send_data\n",
            "    return self.create_data(feed, payload)\n",
            "  File \"/usr/local/lib/python3.7/dist-packages/Adafruit_IO/client.py\", line 254, in create_data\n",
            "    return Data.from_dict(self._post(path, data._asdict()))\n",
            "  File \"/usr/local/lib/python3.7/dist-packages/Adafruit_IO/client.py\", line 127, in _post\n",
            "    self._handle_error(response)\n",
            "  File \"/usr/local/lib/python3.7/dist-packages/Adafruit_IO/client.py\", line 108, in _handle_error\n",
            "    raise RequestError(response)\n",
            "Adafruit_IO.errors.RequestError: Adafruit IO request failed: 404 Not Found - not found - API documentation can be found at https://io.adafruit.com/api/docs\n",
            "No error handlers are registered, logging exception.\n",
            "Traceback (most recent call last):\n",
            "  File \"/usr/local/lib/python3.7/dist-packages/telegram/ext/dispatcher.py\", line 425, in process_update\n",
            "    handler.handle_update(update, self, check, context)\n",
            "  File \"/usr/local/lib/python3.7/dist-packages/telegram/ext/handler.py\", line 145, in handle_update\n",
            "    return self.callback(update, context)\n",
            "  File \"<ipython-input-3-c4ff2554fc57>\", line 29, in main\n",
            "    demo1(bot,update)\n",
            "  File \"<ipython-input-3-c4ff2554fc57>\", line 9, in demo1\n",
            "    aio.send('light',1)\n",
            "  File \"/usr/local/lib/python3.7/dist-packages/Adafruit_IO/client.py\", line 154, in send_data\n",
            "    return self.create_data(feed, payload)\n",
            "  File \"/usr/local/lib/python3.7/dist-packages/Adafruit_IO/client.py\", line 254, in create_data\n",
            "    return Data.from_dict(self._post(path, data._asdict()))\n",
            "  File \"/usr/local/lib/python3.7/dist-packages/Adafruit_IO/client.py\", line 127, in _post\n",
            "    self._handle_error(response)\n",
            "  File \"/usr/local/lib/python3.7/dist-packages/Adafruit_IO/client.py\", line 108, in _handle_error\n",
            "    raise RequestError(response)\n",
            "Adafruit_IO.errors.RequestError: Adafruit IO request failed: 404 Not Found - not found - API documentation can be found at https://io.adafruit.com/api/docs\n",
            "No error handlers are registered, logging exception.\n",
            "Traceback (most recent call last):\n",
            "  File \"/usr/local/lib/python3.7/dist-packages/telegram/ext/dispatcher.py\", line 425, in process_update\n",
            "    handler.handle_update(update, self, check, context)\n",
            "  File \"/usr/local/lib/python3.7/dist-packages/telegram/ext/handler.py\", line 145, in handle_update\n",
            "    return self.callback(update, context)\n",
            "  File \"<ipython-input-3-c4ff2554fc57>\", line 33, in main\n",
            "    demo3(bot,update)\n",
            "  File \"<ipython-input-3-c4ff2554fc57>\", line 19, in demo3\n",
            "    aio.send('fan',1)\n",
            "  File \"/usr/local/lib/python3.7/dist-packages/Adafruit_IO/client.py\", line 154, in send_data\n",
            "    return self.create_data(feed, payload)\n",
            "  File \"/usr/local/lib/python3.7/dist-packages/Adafruit_IO/client.py\", line 254, in create_data\n",
            "    return Data.from_dict(self._post(path, data._asdict()))\n",
            "  File \"/usr/local/lib/python3.7/dist-packages/Adafruit_IO/client.py\", line 127, in _post\n",
            "    self._handle_error(response)\n",
            "  File \"/usr/local/lib/python3.7/dist-packages/Adafruit_IO/client.py\", line 108, in _handle_error\n",
            "    raise RequestError(response)\n",
            "Adafruit_IO.errors.RequestError: Adafruit IO request failed: 404 Not Found - not found - API documentation can be found at https://io.adafruit.com/api/docs\n",
            "No error handlers are registered, logging exception.\n",
            "Traceback (most recent call last):\n",
            "  File \"/usr/local/lib/python3.7/dist-packages/telegram/ext/dispatcher.py\", line 425, in process_update\n",
            "    handler.handle_update(update, self, check, context)\n",
            "  File \"/usr/local/lib/python3.7/dist-packages/telegram/ext/handler.py\", line 145, in handle_update\n",
            "    return self.callback(update, context)\n",
            "  File \"<ipython-input-3-c4ff2554fc57>\", line 31, in main\n",
            "    demo2(bot,update)\n",
            "  File \"<ipython-input-3-c4ff2554fc57>\", line 14, in demo2\n",
            "    aio.send('light',0)\n",
            "  File \"/usr/local/lib/python3.7/dist-packages/Adafruit_IO/client.py\", line 154, in send_data\n",
            "    return self.create_data(feed, payload)\n",
            "  File \"/usr/local/lib/python3.7/dist-packages/Adafruit_IO/client.py\", line 254, in create_data\n",
            "    return Data.from_dict(self._post(path, data._asdict()))\n",
            "  File \"/usr/local/lib/python3.7/dist-packages/Adafruit_IO/client.py\", line 127, in _post\n",
            "    self._handle_error(response)\n",
            "  File \"/usr/local/lib/python3.7/dist-packages/Adafruit_IO/client.py\", line 108, in _handle_error\n",
            "    raise RequestError(response)\n",
            "Adafruit_IO.errors.RequestError: Adafruit IO request failed: 404 Not Found - not found - API documentation can be found at https://io.adafruit.com/api/docs\n",
            "No error handlers are registered, logging exception.\n",
            "Traceback (most recent call last):\n",
            "  File \"/usr/local/lib/python3.7/dist-packages/telegram/ext/dispatcher.py\", line 425, in process_update\n",
            "    handler.handle_update(update, self, check, context)\n",
            "  File \"/usr/local/lib/python3.7/dist-packages/telegram/ext/handler.py\", line 145, in handle_update\n",
            "    return self.callback(update, context)\n",
            "  File \"<ipython-input-3-c4ff2554fc57>\", line 35, in main\n",
            "    demo4(bot,update)\n",
            "  File \"<ipython-input-3-c4ff2554fc57>\", line 24, in demo4\n",
            "    aio.send('fan',0)\n",
            "  File \"/usr/local/lib/python3.7/dist-packages/Adafruit_IO/client.py\", line 154, in send_data\n",
            "    return self.create_data(feed, payload)\n",
            "  File \"/usr/local/lib/python3.7/dist-packages/Adafruit_IO/client.py\", line 254, in create_data\n",
            "    return Data.from_dict(self._post(path, data._asdict()))\n",
            "  File \"/usr/local/lib/python3.7/dist-packages/Adafruit_IO/client.py\", line 127, in _post\n",
            "    self._handle_error(response)\n",
            "  File \"/usr/local/lib/python3.7/dist-packages/Adafruit_IO/client.py\", line 108, in _handle_error\n",
            "    raise RequestError(response)\n",
            "Adafruit_IO.errors.RequestError: Adafruit IO request failed: 404 Not Found - not found - API documentation can be found at https://io.adafruit.com/api/docs\n"
          ]
        }
      ]
    }
  ]
}